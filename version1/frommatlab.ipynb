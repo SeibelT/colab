{
  "nbformat": 4,
  "nbformat_minor": 0,
  "metadata": {
    "colab": {
      "name": "frommatlab.ipynb",
      "provenance": [],
      "include_colab_link": true
    },
    "kernelspec": {
      "name": "python3",
      "display_name": "Python 3"
    },
    "accelerator": "GPU"
  },
  "cells": [
    {
      "cell_type": "markdown",
      "metadata": {
        "id": "view-in-github",
        "colab_type": "text"
      },
      "source": [
        "<a href=\"https://colab.research.google.com/github/SeibelT/colab/blob/master/frommatlab.ipynb\" target=\"_parent\"><img src=\"https://colab.research.google.com/assets/colab-badge.svg\" alt=\"Open In Colab\"/></a>"
      ]
    },
    {
      "cell_type": "markdown",
      "metadata": {
        "id": "cVBU__i7j2pU",
        "colab_type": "text"
      },
      "source": [
        "# **Training a network with Keras**"
      ]
    },
    {
      "cell_type": "markdown",
      "metadata": {
        "id": "qHdXYoRQJYLb",
        "colab_type": "text"
      },
      "source": [
        " **Import libraries**"
      ]
    },
    {
      "cell_type": "code",
      "metadata": {
        "id": "Bxy9R5p_JG7h",
        "colab_type": "code",
        "colab": {}
      },
      "source": [
        "import pandas as pd\n",
        "import numpy as np\n",
        "import os\n",
        "import keras\n",
        "import matplotlib.pyplot as plt\n",
        "from keras.layers import Dense,GlobalAveragePooling2D,Dropout\n",
        "\n",
        "from keras.applications.resnet50 import ResNet50\n",
        "\n",
        "\n",
        "from keras.preprocessing import image\n",
        "from keras.applications.resnet50 import preprocess_input\n",
        "from keras.preprocessing.image import ImageDataGenerator\n",
        "from keras import Model,layers\n",
        "from keras.optimizers import Adam,SGD,Adadelta\n",
        "from sklearn.metrics import classification_report, confusion_matrix\n"
      ],
      "execution_count": 0,
      "outputs": []
    },
    {
      "cell_type": "markdown",
      "metadata": {
        "id": "ETDqMsN2kKqH",
        "colab_type": "text"
      },
      "source": [
        "# Import Data"
      ]
    },
    {
      "cell_type": "markdown",
      "metadata": {
        "id": "2Ka3d6tYZTZQ",
        "colab_type": "text"
      },
      "source": [
        "To be able to import Data in google Colaboratory, we have to connect to My_Drive first"
      ]
    },
    {
      "cell_type": "code",
      "metadata": {
        "id": "Oo57FH4hkJ-C",
        "colab_type": "code",
        "outputId": "89877b4a-97cf-4187-a511-78b553678c39",
        "colab": {
          "base_uri": "https://localhost:8080/",
          "height": 34
        }
      },
      "source": [
        "# Load the Drive helper and mount\n",
        "from google.colab import drive\n",
        "\n",
        "# This will prompt for authorization.\n",
        "drive.mount(\"My_Drive\")"
      ],
      "execution_count": 12,
      "outputs": [
        {
          "output_type": "stream",
          "text": [
            "Mounted at My_Drive\n"
          ],
          "name": "stdout"
        }
      ]
    },
    {
      "cell_type": "markdown",
      "metadata": {
        "id": "SkwEIv_3pIub",
        "colab_type": "text"
      },
      "source": [
        "If not working try \"Reset all Runtime\" in Runtime-menu or try following code(remove hashtags first):"
      ]
    },
    {
      "cell_type": "markdown",
      "metadata": {
        "id": "OteNoZsZJdd7",
        "colab_type": "text"
      },
      "source": [
        "# Datagen for training, validation and testing\n",
        "\n",
        "target_size equal to Model input_size\n"
      ]
    },
    {
      "cell_type": "code",
      "metadata": {
        "id": "BPb2u_oRRa6X",
        "colab_type": "code",
        "outputId": "cc39a3df-38cb-4980-cc21-754f25087acf",
        "colab": {
          "base_uri": "https://localhost:8080/",
          "height": 51
        }
      },
      "source": [
        "train_datagen = ImageDataGenerator(preprocessing_function=preprocess_input)\n",
        "\n",
        "train_generator = train_datagen.flow_from_directory(\n",
        "     'My_Drive/My Drive/TransferedMatlabcode/data_rearranged/training',\n",
        "    target_size=(224,224),\n",
        "    color_mode='rgb',\n",
        "    batch_size=32,\n",
        "    class_mode='categorical',\n",
        "    shuffle=True)\n",
        "\n",
        "validation_datagen = ImageDataGenerator(preprocessing_function=preprocess_input)\n",
        "\n",
        "validation_generator = validation_datagen.flow_from_directory(\n",
        "     'My_Drive/My Drive/TransferedMatlabcode/data_rearranged/validation',\n",
        "    target_size=(224,224),\n",
        "    color_mode='rgb',\n",
        "    batch_size=32,\n",
        "    class_mode='categorical',\n",
        "    shuffle=True)\n",
        "\n",
        "\n",
        "\n",
        "\n"
      ],
      "execution_count": 13,
      "outputs": [
        {
          "output_type": "stream",
          "text": [
            "Found 3496 images belonging to 8 classes.\n",
            "Found 760 images belonging to 8 classes.\n"
          ],
          "name": "stdout"
        }
      ]
    },
    {
      "cell_type": "markdown",
      "metadata": {
        "id": "nGDj51axaWlA",
        "colab_type": "text"
      },
      "source": [
        "# Prepare Model"
      ]
    },
    {
      "cell_type": "markdown",
      "metadata": {
        "id": "YRI1J75ZN-sT",
        "colab_type": "text"
      },
      "source": [
        "**Load Resnet without top layers and create own model**"
      ]
    },
    {
      "cell_type": "code",
      "metadata": {
        "id": "7WzLt4tYLQxN",
        "colab_type": "code",
        "outputId": "2108f43a-3e5e-4f4f-d41f-26e9b52f650e",
        "colab": {
          "base_uri": "https://localhost:8080/",
          "height": 71
        }
      },
      "source": [
        "base_model=ResNet50(weights='imagenet',include_top=False) #imports the Restnet50 model without last layers.\n",
        "\n",
        "x=base_model.output\n",
        "x=GlobalAveragePooling2D()(x)\n",
        "x=Dense(128,activation='relu')(x) #add some dense layers, Dropoutlayers(less overfitting)\n",
        "x=Dropout(0.3)(x)\n",
        "x=Dense(128,activation='relu')(x) #dense layer 2\n",
        "x=Dropout(0.3)(x)\n",
        "x=Dense(64,activation='sigmoid')(x) #dense layer 3\n",
        "preds=Dense(8,activation='softmax')(x) #final layer with softmax \n",
        "model=Model(inputs=base_model.input,outputs=preds)\n",
        "\n",
        "\n",
        "#show Layers from new model\n",
        "#for i,layer in enumerate(model.layers):\n",
        "#  print(i,layer.name)"
      ],
      "execution_count": 14,
      "outputs": [
        {
          "output_type": "stream",
          "text": [
            "/usr/local/lib/python3.6/dist-packages/keras_applications/resnet50.py:265: UserWarning: The output shape of `ResNet50(include_top=False)` has been changed since Keras 2.2.0.\n",
            "  warnings.warn('The output shape of `ResNet50(include_top=False)` '\n"
          ],
          "name": "stderr"
        }
      ]
    },
    {
      "cell_type": "markdown",
      "metadata": {
        "id": "wx70vTQdkSa8",
        "colab_type": "text"
      },
      "source": [
        "# Train Model\n",
        "\n",
        "with different Optimizer\n",
        "select optimizer, make if-Function True, others False"
      ]
    },
    {
      "cell_type": "code",
      "metadata": {
        "id": "ZoFYlhOUcVyW",
        "colab_type": "code",
        "colab": {
          "base_uri": "https://localhost:8080/",
          "height": 527
        },
        "outputId": "34c79ddc-36c7-464c-e81b-fafa4c48cf82"
      },
      "source": [
        "if True:\n",
        "  \"\"\"Adam Optimizer\"\"\"\n",
        "  ADAM=keras.optimizers.Adam(lr=0.0002, beta_1=0.9, beta_2=0.999, amsgrad=False)\n",
        "  model.compile(loss='categorical_crossentropy',optimizer=ADAM,metrics=['accuracy'])\n",
        "  # Adam optimizer\n",
        "  # loss function will be categorical cross entropy, since dataset has more categories\n",
        "  # evaluation metric will be accuracy\n",
        "\n",
        "if False:\n",
        "  \"\"\"SGD Optimizer\"\"\"\n",
        "  sgd=keras.optimizers.SGD(lr=0.001)\n",
        "  model.compile(loss='categorical_crossentropy',optimizer=sgd,metrics=['accuracy'])\n",
        "if False:\n",
        "  \"\"\"Adadelta optimizer\"\"\"\n",
        "  adadelt= keras.optimizers.Adadelta(lr=0.1)\n",
        "  model.compile(loss='categorical_crossentropy',optimizer=adadelt,metrics=['accuracy'])\n",
        "\n",
        "  \n",
        "\n",
        "\n",
        "\"\"\"train model,(later use history for confusion matrix)\"\"\"\n",
        "\n",
        "step_size_train=train_generator.n//train_generator.batch_size\n",
        "step_size_valid=validation_generator.n//train_generator.batch_size\n",
        "\n",
        "history=model.fit_generator(generator=train_generator,\n",
        "                    validation_data=validation_generator, validation_steps=step_size_valid, validation_freq=1,\n",
        "                   steps_per_epoch=step_size_train,\n",
        "                   epochs=15\n",
        "                   )\n",
        "\n"
      ],
      "execution_count": 15,
      "outputs": [
        {
          "output_type": "stream",
          "text": [
            "Epoch 1/15\n",
            "109/109 [==============================] - 1112s 10s/step - loss: 1.0169 - acc: 0.7537 - val_loss: 0.4383 - val_acc: 0.8940\n",
            "Epoch 2/15\n",
            "109/109 [==============================] - 104s 951ms/step - loss: 0.5226 - acc: 0.8968 - val_loss: 1.1556 - val_acc: 0.6497\n",
            "Epoch 3/15\n",
            "109/109 [==============================] - 103s 946ms/step - loss: 0.4349 - acc: 0.9000 - val_loss: 0.8735 - val_acc: 0.7514\n",
            "Epoch 4/15\n",
            "109/109 [==============================] - 103s 945ms/step - loss: 0.3315 - acc: 0.9266 - val_loss: 0.5263 - val_acc: 0.8475\n",
            "Epoch 5/15\n",
            "109/109 [==============================] - 103s 946ms/step - loss: 0.2850 - acc: 0.9398 - val_loss: 0.4299 - val_acc: 0.8764\n",
            "Epoch 6/15\n",
            "109/109 [==============================] - 103s 947ms/step - loss: 0.2542 - acc: 0.9407 - val_loss: 0.2250 - val_acc: 0.9464\n",
            "Epoch 7/15\n",
            "109/109 [==============================] - 103s 946ms/step - loss: 0.2018 - acc: 0.9590 - val_loss: 0.5005 - val_acc: 0.8668\n",
            "Epoch 8/15\n",
            "109/109 [==============================] - 104s 951ms/step - loss: 0.1715 - acc: 0.9627 - val_loss: 0.3395 - val_acc: 0.9080\n",
            "Epoch 9/15\n",
            "109/109 [==============================] - 103s 943ms/step - loss: 0.1745 - acc: 0.9613 - val_loss: 0.3366 - val_acc: 0.9038\n",
            "Epoch 10/15\n",
            "109/109 [==============================] - 103s 947ms/step - loss: 0.1264 - acc: 0.9753 - val_loss: 0.3144 - val_acc: 0.9107\n",
            "Epoch 11/15\n",
            "109/109 [==============================] - 103s 948ms/step - loss: 0.1241 - acc: 0.9725 - val_loss: 0.2814 - val_acc: 0.9258\n",
            "Epoch 12/15\n",
            "109/109 [==============================] - 103s 946ms/step - loss: 0.1077 - acc: 0.9759 - val_loss: 0.5088 - val_acc: 0.8723\n",
            "Epoch 13/15\n",
            "109/109 [==============================] - 103s 947ms/step - loss: 0.1242 - acc: 0.9719 - val_loss: 0.5560 - val_acc: 0.8544\n",
            "Epoch 14/15\n",
            "109/109 [==============================] - 103s 947ms/step - loss: 0.0977 - acc: 0.9768 - val_loss: 0.5076 - val_acc: 0.8008\n",
            "Epoch 15/15\n",
            "109/109 [==============================] - 103s 947ms/step - loss: 0.1039 - acc: 0.9805 - val_loss: 0.5258 - val_acc: 0.8640\n"
          ],
          "name": "stdout"
        }
      ]
    },
    {
      "cell_type": "markdown",
      "metadata": {
        "id": "wUHDORwGZMAw",
        "colab_type": "text"
      },
      "source": [
        ""
      ]
    },
    {
      "cell_type": "markdown",
      "metadata": {
        "id": "b5OQ9PzV1bk2",
        "colab_type": "text"
      },
      "source": [
        "# Save Model\n",
        "if necessary "
      ]
    },
    {
      "cell_type": "code",
      "metadata": {
        "id": "W4Jf9vzroyii",
        "colab_type": "code",
        "colab": {}
      },
      "source": [
        "#architecture and weights to HDF5\n",
        "#model.save('My_Drive/My Drive/TransferedMatlabcode/model_sgd_resnet50_50epochs.h5')\n",
        "\n",
        "#print(model.summary())"
      ],
      "execution_count": 0,
      "outputs": []
    },
    {
      "cell_type": "markdown",
      "metadata": {
        "id": "W9wlldem1gaE",
        "colab_type": "text"
      },
      "source": [
        "# Create Datagen for testing model"
      ]
    },
    {
      "cell_type": "code",
      "metadata": {
        "id": "LKTxyKUQCIkf",
        "colab_type": "code",
        "colab": {
          "base_uri": "https://localhost:8080/",
          "height": 34
        },
        "outputId": "ea944a23-cd06-44e9-d055-b407ffa60f02"
      },
      "source": [
        "\n",
        "test_datagen = ImageDataGenerator(\n",
        "    preprocessing_function=preprocess_input)\n",
        "\n",
        "\n",
        "\n",
        "test_generator= test_datagen.flow_from_directory(\n",
        "     'My_Drive/My Drive/TransferedMatlabcode/data_rearranged/test',\n",
        "    target_size=(224,224),\n",
        "    color_mode='rgb',\n",
        "    batch_size=32,\n",
        "    class_mode='categorical',\n",
        "    shuffle=False)\n",
        "\n"
      ],
      "execution_count": 17,
      "outputs": [
        {
          "output_type": "stream",
          "text": [
            "Found 744 images belonging to 8 classes.\n"
          ],
          "name": "stdout"
        }
      ]
    },
    {
      "cell_type": "markdown",
      "metadata": {
        "id": "oiPa7zSTAFF5",
        "colab_type": "text"
      },
      "source": [
        "# Confusion Matrix \n"
      ]
    },
    {
      "cell_type": "code",
      "metadata": {
        "id": "6nwG4A68mDHy",
        "colab_type": "code",
        "colab": {
          "base_uri": "https://localhost:8080/",
          "height": 442
        },
        "outputId": "1c3a4f0e-63c8-4023-8d8b-ee5e6f78e3ab"
      },
      "source": [
        "#print(history.history.keys())\n",
        "\n",
        "num_of_test_samples=760\n",
        "batch_size=32\n",
        "\n",
        "pred = model.predict_generator(test_generator)\n",
        "Pred = np.argmax(pred, axis=1) #scale 0-1\n",
        "print('simple Confusion Matrix:')\n",
        "print(confusion_matrix(test_generator.classes, Pred))\n",
        "print('Classification Report:')\n",
        "target_names = [\"Tumor\", \"Stroma\", \"Complex\", \"Lympho\", \"Debris\" ,\"Mucosa\", \"Adipose\", \"Empty\"]\n",
        "\n",
        "#classification report (?)\n",
        "print(classification_report(test_generator.classes, Pred, target_names=target_names))\n"
      ],
      "execution_count": 18,
      "outputs": [
        {
          "output_type": "stream",
          "text": [
            "simple Confusion Matrix:\n",
            "[[89  1  0  0  0  3  0  0]\n",
            " [ 1 84  2  2  4  0  0  0]\n",
            " [ 3 28 37  9 16  0  0  0]\n",
            " [ 0  1  2 86  4  0  0  0]\n",
            " [ 1 11  0  0 80  0  0  1]\n",
            " [ 1  0  1  3  0 88  0  0]\n",
            " [ 0  2  0  0  3 11 71  6]\n",
            " [ 0  0  0  0  0  0  0 93]]\n",
            "Classification Report:\n",
            "              precision    recall  f1-score   support\n",
            "\n",
            "       Tumor       0.94      0.96      0.95        93\n",
            "      Stroma       0.66      0.90      0.76        93\n",
            "     Complex       0.88      0.40      0.55        93\n",
            "      Lympho       0.86      0.92      0.89        93\n",
            "      Debris       0.75      0.86      0.80        93\n",
            "      Mucosa       0.86      0.95      0.90        93\n",
            "     Adipose       1.00      0.76      0.87        93\n",
            "       Empty       0.93      1.00      0.96        93\n",
            "\n",
            "    accuracy                           0.84       744\n",
            "   macro avg       0.86      0.84      0.84       744\n",
            "weighted avg       0.86      0.84      0.84       744\n",
            "\n"
          ],
          "name": "stdout"
        }
      ]
    },
    {
      "cell_type": "markdown",
      "metadata": {
        "id": "ZiiBHH2HAK-o",
        "colab_type": "text"
      },
      "source": [
        "# Plot Accuracy & Loss"
      ]
    },
    {
      "cell_type": "code",
      "metadata": {
        "id": "56Qn4RT0ng97",
        "colab_type": "code",
        "colab": {
          "base_uri": "https://localhost:8080/",
          "height": 313
        },
        "outputId": "7552ad72-78e9-4501-d50f-23dff85d63ef"
      },
      "source": [
        "f, (ax1, ax2) = plt.subplots(2, 1, sharex=True, constrained_layout=True)\n",
        "\n",
        "ax1.plot(history.history['acc'],label=\"training\")\n",
        "ax1.plot(history.history['val_acc'],label=\"validation\")\n",
        "ax1.axhline(max(history.history['val_acc']),color=\"grey\",label=\"max val accuracy\")\n",
        "ax1.set_title(\"Accuracy \")\n",
        "ax1.set_ylabel(\"accuracy\")\n",
        "\n",
        "ax1.legend()\n",
        "ax2.plot(history.history['loss'],label=\"training\")\n",
        "ax2.plot(history.history['val_loss'],label=\"validation\")\n",
        "ax2.set_xlabel(\"epochs\")\n",
        "ax2.set_ylabel(\"loss\")\n",
        "ax2.legend()\n",
        "\n",
        "\n",
        "\"\"\"to save fig as pdf:\"\"\"\n",
        "fname=\"My_Drive/My Drive/TransferedMatlabcode/plot_training_resnet_Adadelta\"\n",
        "#plt.savefig(fname, format=\"pdf\")\n"
      ],
      "execution_count": 19,
      "outputs": [
        {
          "output_type": "display_data",
          "data": {
            "image/png": "[encoded data removed]",
            "text/plain": [
              "<Figure size 432x288 with 2 Axes>"
            ]
          },
          "metadata": {
            "tags": []
          }
        }
      ]
    }
  ]
}
